{
  "nbformat": 4,
  "nbformat_minor": 0,
  "metadata": {
    "colab": {
      "provenance": [],
      "authorship_tag": "ABX9TyPdCTv6z4jasMK+o9VQ6Lan",
      "include_colab_link": true
    },
    "kernelspec": {
      "name": "python3",
      "display_name": "Python 3"
    },
    "language_info": {
      "name": "python"
    }
  },
  "cells": [
    {
      "cell_type": "markdown",
      "metadata": {
        "id": "view-in-github",
        "colab_type": "text"
      },
      "source": [
        "<a href=\"https://colab.research.google.com/github/ms624atyale/Graduate_PictureBook_Sample_Temp_2025/blob/main/1_sample_makeinputtextfile4furthernalysis_tokencleanlowerapplied.ipynb\" target=\"_parent\"><img src=\"https://colab.research.google.com/assets/colab-badge.svg\" alt=\"Open In Colab\"/></a>"
      ]
    },
    {
      "cell_type": "markdown",
      "source": [
        "#1️⃣ <font color = 'red'> 🐹🐾 **Final Script to prepare input text for further analysis (e.g., Wordcloud, Lexical Diversity, etc.)**\n",
        "\n",
        "  - # <font color = 'blue'> 🐹🐾 **Important & Useful!**\n",
        "  - ### **This script is based on plain text for \"The tale of Benjamin Bunny by Beatrix Potter\" under the Repository of \"PictureBook_Project_Demo_2025\".**"
      ],
      "metadata": {
        "id": "DlRtfSQYdex6"
      }
    },
    {
      "cell_type": "code",
      "execution_count": null,
      "metadata": {
        "colab": {
          "base_uri": "https://localhost:8080/"
        },
        "id": "GT0LsgO85fCm",
        "outputId": "1a7d8371-599b-41d4-f3a7-e25a5c62e1da"
      },
      "outputs": [
        {
          "output_type": "stream",
          "name": "stdout",
          "text": [
            "Cloning into 'Graduate_PictureBook_Sample_Temp_2025'...\n",
            "remote: Enumerating objects: 19, done.\u001b[K\n",
            "remote: Counting objects: 100% (19/19), done.\u001b[K\n",
            "remote: Compressing objects: 100% (16/16), done.\u001b[K\n",
            "remote: Total 19 (delta 2), reused 0 (delta 0), pack-reused 0 (from 0)\u001b[K\n",
            "Receiving objects: 100% (19/19), 39.87 KiB | 3.32 MiB/s, done.\n",
            "Resolving deltas: 100% (2/2), done.\n"
          ]
        }
      ],
      "source": [
        "! git clone https://github.com/ms624atyale/Graduate_PictureBook_Sample_Temp_2025\n",
        "  #Make copy of the whole repository of a github account."
      ]
    },
    {
      "cell_type": "markdown",
      "source": [
        "##<font color = 'red'> 🆘 **ALERT**\n",
        "## <font color = 'red'> 🆘 **Important & Useful!**\n",
        "\n",
        "## ⤵️ In order to avoid setting a new repository being created as a subdirectory of the old one\n",
        "\n",
        "### <font color = 'blue'> <Python code>\n",
        "### <font color = 'blue'> %cd /content  # Moves to the default root directory in Google Colab\n",
        "\n",
        "## ⤵️ In order to delete the old directory forcefully\n",
        "\n",
        "### <font color = 'blue'> **▶️ Python code**\n",
        "### <font color = 'gray'> **! rm -rf NameofOldRepository**          \n",
        "\n",
        "### <font color = 'gray'> (e.g., **! rm -rf NLP_PictureBook_2025**)\n",
        "\n",
        "# **If this is not working out, rename the old, existing folder as <Eliminated> and drag the new repository under %content/.**\n"
      ],
      "metadata": {
        "id": "fPmvcdN0KP_0"
      }
    },
    {
      "cell_type": "markdown",
      "source": [
        "#2️⃣ 🐹🐾 **Set up the current directory**"
      ],
      "metadata": {
        "id": "7l39aMcg6QF8"
      }
    },
    {
      "cell_type": "code",
      "source": [
        "%cd /content/Graduate_PictureBook_Sample_Temp_2025"
      ],
      "metadata": {
        "colab": {
          "base_uri": "https://localhost:8080/"
        },
        "id": "NyQD9Oxo7Me6",
        "outputId": "51fa64e7-fe37-4fb6-9169-7858f92b28ee"
      },
      "execution_count": null,
      "outputs": [
        {
          "output_type": "stream",
          "name": "stdout",
          "text": [
            "/content/Graduate_PictureBook_Sample_Temp_2025\n"
          ]
        }
      ]
    },
    {
      "cell_type": "markdown",
      "source": [
        "#3️⃣ 🐹🐾 **Read the txt file**"
      ],
      "metadata": {
        "id": "ugQTa2Md66W5"
      }
    },
    {
      "cell_type": "code",
      "source": [
        "# ▶️ Step 1: You need to modify this codeline 🍎🍎🍎🍎🍎\n",
        "file = open(\"/content/Graduate_PictureBook_Sample_Temp_2025/Data_UTF8/ButterflysBallGrasshoppersFeast_Roscoe.txt\", 'rt')\n",
        "\n",
        "txt = file.read()\n",
        "print(txt)\n",
        "file.close() #Using this close()function, you are no longer using your text file of the current workingdirectory with open()function."
      ],
      "metadata": {
        "id": "r_tn-hJp9gje",
        "collapsed": true,
        "colab": {
          "base_uri": "https://localhost:8080/"
        },
        "outputId": "73c2afb4-0e71-4d35-ab10-0fefb946b590"
      },
      "execution_count": null,
      "outputs": [
        {
          "output_type": "stream",
          "name": "stdout",
          "text": [
            "THE\n",
            "\n",
            "BUTTERFLY'S BALL.\n",
            "\n",
            "\n",
            "  Come take up your Hats, and away let us haste\n",
            "  To the _Butterfly's_ Ball, and the _Grasshopper's_ Feast.\n",
            "  The Trumpeter, _Gad-fly_, has summon'd the Crew,\n",
            "  And the Revels are now only waiting for you.\n",
            "\n",
            "  So said little Robert, and pacing along,\n",
            "  His merry Companions came forth in a Throng.\n",
            "  And on the smooth Grass, by the side of a Wood,\n",
            "  Beneath a broad Oak that for Ages had stood,\n",
            "\n",
            "[Illustration: _\"Saw the children of earth & the tenants of air,\"_]\n",
            "\n",
            "  Saw the Children of Earth, and the Tenants of Air,\n",
            "  For an Evening's Amusement together repair.\n",
            "  And there came the _Beetle_, so blind and so black,\n",
            "  Who carried the _Emmet_, his Friend, on his Back.\n",
            "\n",
            "  And there was the _Gnat_ and the _Dragon-fly_ too,\n",
            "  With all their Relations, Green, Orange, and Blue.\n",
            "  And there came the _Moth_, with his Plumage of Down,\n",
            "  And the _Hornet_ in Jacket of Yellow and Brown;\n",
            "\n",
            "  Who with him the _Wasp_, his Companion, did bring,\n",
            "  But they promis'd, that Evening, to lay by their Sting.\n",
            "  And the sly little _Dormouse_ crept out of his Hole,\n",
            "  And brought to the Feast his blind Brother, the _Mole_.\n",
            "\n",
            "[Illustration: _\"And the sly little dormouse crept out of his hole.\"_]\n",
            "\n",
            "  And the _Snail_, with his Horns peeping out of his Shell,\n",
            "  Came from a great Distance, the Length of an Ell.\n",
            "  A Mushroom their Table, and on it was laid\n",
            "  A Water-dock Leaf, which a Table-cloth made.\n",
            "\n",
            "[Illustration: _\"And the Bee brought her honey,\" &c._]\n",
            "\n",
            "  The Viands were various, to each of their Taste,\n",
            "  And the _Bee_ brought her Honey to crown the Repast.\n",
            "  Then close on his Haunches, so solemn and wise,\n",
            "  The _Frog_ from a Corner, look'd up to the Skies.\n",
            "\n",
            "  And the _Squirrel_ well pleas'd such Diversions to see,\n",
            "  Mounted high over Head, and look'd down from a Tree.\n",
            "  Then out came the _Spider_, with Finger so fine,\n",
            "  To shew his Dexterity on the tight Line.\n",
            "\n",
            "  From one Branch to another, his Cobwebs he slung,\n",
            "  Then quick as an Arrow he darted along,\n",
            "  But just in the Middle,--Oh! shocking to tell,\n",
            "  From his Rope, in an Instant, poor Harlequin fell.\n",
            "\n",
            "[Illustration: _\"Hung suspended in air,\" &c._]\n",
            "\n",
            "  Yet he touch'd not the Ground, but with Talons outspread,\n",
            "  Hung suspended in Air, at the End of a Thread.\n",
            "  Then the _Grasshopper_ came with a Jerk and a Spring,\n",
            "  Very long was his Leg, though but short was his Wing;\n",
            "\n",
            "  He took but three Leaps, and was soon out of Sight,\n",
            "  Then chirp'd his own Praises the rest of the Night.\n",
            "  With Step so majestic the _Snail_ did advance,\n",
            "  And promis'd the Gazers a Minuet to dance.\n",
            "\n",
            "[Illustration: _\"With step so Majestic the snail did advance,\"_]\n",
            "\n",
            "  But they all laugh'd so loud that he pull'd in his Head,\n",
            "  And went in his own little Chamber to Bed.\n",
            "  Then, as Evening gave Way to the Shadows of Night,\n",
            "  Their Watchman, the _Glow-worm_, came out with a Light.\n",
            "\n",
            "[Illustration: _\"So said little Robert, & pacing along,\" &c._]\n",
            "\n",
            "  Then Home let us hasten, while yet we can see,\n",
            "  For no Watchman is waiting for you and for me,\n",
            "  So said little Robert, and pacing along,\n",
            "  His merry Companions returned in a Throng.\n",
            "\n",
            "\n",
            "\n",
            "END OF THE BUTTERFLY'S BALL.\n",
            "\n"
          ]
        }
      ]
    },
    {
      "cell_type": "markdown",
      "source": [
        "#4️⃣ 🐹🐾 **Install NLTK and Download necessary models**"
      ],
      "metadata": {
        "id": "jt3svU1cp2zm"
      }
    },
    {
      "cell_type": "code",
      "source": [
        "!pip install nltk\n",
        "import nltk\n",
        "nltk.download('punkt')\n",
        "nltk.download('punkt_tab')"
      ],
      "metadata": {
        "id": "gBwuDza2-JwS",
        "collapsed": true,
        "colab": {
          "base_uri": "https://localhost:8080/"
        },
        "outputId": "69b0319b-88b8-4739-ab59-2ae60702cf70"
      },
      "execution_count": null,
      "outputs": [
        {
          "output_type": "stream",
          "name": "stdout",
          "text": [
            "Requirement already satisfied: nltk in /usr/local/lib/python3.11/dist-packages (3.9.1)\n",
            "Requirement already satisfied: click in /usr/local/lib/python3.11/dist-packages (from nltk) (8.2.1)\n",
            "Requirement already satisfied: joblib in /usr/local/lib/python3.11/dist-packages (from nltk) (1.5.1)\n",
            "Requirement already satisfied: regex>=2021.8.3 in /usr/local/lib/python3.11/dist-packages (from nltk) (2024.11.6)\n",
            "Requirement already satisfied: tqdm in /usr/local/lib/python3.11/dist-packages (from nltk) (4.67.1)\n"
          ]
        },
        {
          "output_type": "stream",
          "name": "stderr",
          "text": [
            "[nltk_data] Downloading package punkt to /root/nltk_data...\n",
            "[nltk_data]   Unzipping tokenizers/punkt.zip.\n",
            "[nltk_data] Downloading package punkt_tab to /root/nltk_data...\n",
            "[nltk_data]   Unzipping tokenizers/punkt_tab.zip.\n"
          ]
        },
        {
          "output_type": "execute_result",
          "data": {
            "text/plain": [
              "True"
            ]
          },
          "metadata": {},
          "execution_count": 4
        }
      ]
    },
    {
      "cell_type": "markdown",
      "source": [
        "# 5️⃣ 🐹🐾 **Just checking with tokenizing sentences**"
      ],
      "metadata": {
        "id": "pU7HuODPp4H9"
      }
    },
    {
      "cell_type": "code",
      "source": [
        "from nltk.tokenize import sent_tokenize\n",
        "sentence = sent_tokenize(txt)\n",
        "print('Sentence Tokenized: %s' %sentence)"
      ],
      "metadata": {
        "id": "6nya4AxT-2iR",
        "colab": {
          "base_uri": "https://localhost:8080/"
        },
        "outputId": "c5058725-65f2-4c32-f6f2-13c5ded08cfb"
      },
      "execution_count": null,
      "outputs": [
        {
          "output_type": "stream",
          "name": "stdout",
          "text": [
            "Sentence Tokenized: [\"THE\\n\\nBUTTERFLY'S BALL.\", \"Come take up your Hats, and away let us haste\\n  To the _Butterfly's_ Ball, and the _Grasshopper's_ Feast.\", \"The Trumpeter, _Gad-fly_, has summon'd the Crew,\\n  And the Revels are now only waiting for you.\", 'So said little Robert, and pacing along,\\n  His merry Companions came forth in a Throng.', 'And on the smooth Grass, by the side of a Wood,\\n  Beneath a broad Oak that for Ages had stood,\\n\\n[Illustration: _\"Saw the children of earth & the tenants of air,\"_]\\n\\n  Saw the Children of Earth, and the Tenants of Air,\\n  For an Evening\\'s Amusement together repair.', 'And there came the _Beetle_, so blind and so black,\\n  Who carried the _Emmet_, his Friend, on his Back.', 'And there was the _Gnat_ and the _Dragon-fly_ too,\\n  With all their Relations, Green, Orange, and Blue.', \"And there came the _Moth_, with his Plumage of Down,\\n  And the _Hornet_ in Jacket of Yellow and Brown;\\n\\n  Who with him the _Wasp_, his Companion, did bring,\\n  But they promis'd, that Evening, to lay by their Sting.\", 'And the sly little _Dormouse_ crept out of his Hole,\\n  And brought to the Feast his blind Brother, the _Mole_.', '[Illustration: _\"And the sly little dormouse crept out of his hole.', '\"_]\\n\\n  And the _Snail_, with his Horns peeping out of his Shell,\\n  Came from a great Distance, the Length of an Ell.', 'A Mushroom their Table, and on it was laid\\n  A Water-dock Leaf, which a Table-cloth made.', '[Illustration: _\"And the Bee brought her honey,\" &c._]\\n\\n  The Viands were various, to each of their Taste,\\n  And the _Bee_ brought her Honey to crown the Repast.', \"Then close on his Haunches, so solemn and wise,\\n  The _Frog_ from a Corner, look'd up to the Skies.\", \"And the _Squirrel_ well pleas'd such Diversions to see,\\n  Mounted high over Head, and look'd down from a Tree.\", 'Then out came the _Spider_, with Finger so fine,\\n  To shew his Dexterity on the tight Line.', 'From one Branch to another, his Cobwebs he slung,\\n  Then quick as an Arrow he darted along,\\n  But just in the Middle,--Oh!', 'shocking to tell,\\n  From his Rope, in an Instant, poor Harlequin fell.', '[Illustration: _\"Hung suspended in air,\" &c._]\\n\\n  Yet he touch\\'d not the Ground, but with Talons outspread,\\n  Hung suspended in Air, at the End of a Thread.', \"Then the _Grasshopper_ came with a Jerk and a Spring,\\n  Very long was his Leg, though but short was his Wing;\\n\\n  He took but three Leaps, and was soon out of Sight,\\n  Then chirp'd his own Praises the rest of the Night.\", \"With Step so majestic the _Snail_ did advance,\\n  And promis'd the Gazers a Minuet to dance.\", '[Illustration: _\"With step so Majestic the snail did advance,\"_]\\n\\n  But they all laugh\\'d so loud that he pull\\'d in his Head,\\n  And went in his own little Chamber to Bed.', 'Then, as Evening gave Way to the Shadows of Night,\\n  Their Watchman, the _Glow-worm_, came out with a Light.', '[Illustration: _\"So said little Robert, & pacing along,\" &c._]\\n\\n  Then Home let us hasten, while yet we can see,\\n  For no Watchman is waiting for you and for me,\\n  So said little Robert, and pacing along,\\n  His merry Companions returned in a Throng.', \"END OF THE BUTTERFLY'S BALL.\"]\n"
          ]
        }
      ]
    },
    {
      "cell_type": "markdown",
      "source": [
        "# 6️⃣ 📍📍 **Apply a series of functions for replacement**"
      ],
      "metadata": {
        "id": "s9pIkCMfI-oc"
      }
    },
    {
      "cell_type": "code",
      "source": [
        "import re\n",
        "\n",
        "# Step 1: Read file to change path as needed 🍎🍎🍎🍎🍎🍎\n",
        "with open(\"/content/Graduate_PictureBook_Sample_Temp_2025/Data_UTF8/ButterflysBallGrasshoppersFeast_Roscoe.txt\", 'rt') as fl:\n",
        "    raw_text = fl.read()\n",
        "\n",
        "# STEP 2: Clean the text\n",
        "clean_text = (\n",
        "    raw_text\n",
        "    .lower()\n",
        "    .replace(\"[Illustration:\", \"\")\n",
        "    .replace(\"\\n\", \" \")\n",
        "    .replace(\"“\", \"\")\n",
        "    .replace(\"”\", \"\")\n",
        "    .replace(\"\\\"\", \"\")\n",
        "    .replace(\"_\", \"\")\n",
        "    .replace(\"[illustration]\", \"\")\n",
        "    .replace(\"*\", \"\")\n",
        "    .replace(\"?\", \"\")\n",
        "    .replace(\"!\", \"\")\n",
        "    .replace(\"--\", \" \")\n",
        "    .replace(\":\", \" \")\n",
        "    .replace(\";\", \"\")\n",
        "    .replace(\".\", \"\")\n",
        "    .replace(\",\", \"\")\n",
        "    .replace(\"(\", \"\")\n",
        "    .replace(\")\", \"\")\n",
        "    .replace(\"[Illustration:\", \"\")\n",
        "    .replace(\"_]\", \"\")\n",
        "    .replace(\"&c\", \"\")\n",
        ")\n",
        "\n",
        "# STEP 3: Save the cleaned content to a NEW file as you designate the output path 🍏🍏🍏🍏🍏🍏\n",
        "output_path = \"/content/Graduate_PictureBook_Sample_Temp_2025/Data_Clean/Butterfly]Grasshopper_Roscoe.txt\"\n",
        "with open(output_path, 'w') as cf:\n",
        "    cf.write(clean_text) #Get content named 'clean_text' to the new empty file\n",
        "\n",
        "# Optional: Print to verify\n",
        "print(\"✅ Cleaned text saved to:\", output_path)"
      ],
      "metadata": {
        "colab": {
          "base_uri": "https://localhost:8080/"
        },
        "id": "9l6dyLoYImhx",
        "outputId": "60895e90-7160-4bf9-9407-e2e25c6185a5"
      },
      "execution_count": null,
      "outputs": [
        {
          "output_type": "stream",
          "name": "stdout",
          "text": [
            "✅ Cleaned text saved to: /content/Graduate_PictureBook_Sample_Temp_2025/Data_Clean/Butterfly]Grasshopper_Roscoe.txt\n"
          ]
        }
      ]
    },
    {
      "cell_type": "markdown",
      "source": [
        "##7️⃣ 🐹🐾 **Dlownload .txt file(s) created under the Data_Clean folder to the relevant directory (e.g., Data_Clean) of your github account**"
      ],
      "metadata": {
        "id": "EEW_ereGc1i_"
      }
    },
    {
      "cell_type": "markdown",
      "source": [
        "# 8️⃣ 🐹🐾 **Just cheking the result file with cleaning applied**\n",
        "- **Sentence Tokenization**\n",
        "- **Tokenizing Words with Regular Tokenizer**\n",
        "- **Get tokenized words put in sequence**"
      ],
      "metadata": {
        "id": "SACJ4rQ5qPo-"
      }
    },
    {
      "cell_type": "code",
      "source": [
        "from nltk.tokenize import sent_tokenize\n",
        "\n",
        "sentence = sent_tokenize(clean_text)\n",
        "print('Sentence Tokenized: %s' %sentence)\n",
        "\n",
        "from nltk.tokenize import RegexpTokenizer #RegexpTokenizer as a class\n",
        "import re\n",
        "\n",
        "tok = RegexpTokenizer(\"[\\w]+\") # Alert: You cannot use RegexpTokenizer() without argument. You need a regexpression formula.\n",
        "\n",
        "tk = tok.tokenize(clean_text)\n",
        "print('Tokenizing Words with RegexpTokenizer: %s' %tk)\n",
        "\n",
        "print(' '.join(tk)) #small characters\n",
        "#alternatively, use the codeline of ' '.join(tkn)"
      ],
      "metadata": {
        "colab": {
          "base_uri": "https://localhost:8080/"
        },
        "id": "ctwXWSdaKxBf",
        "outputId": "ec12aa67-23a7-4272-fe09-53ca6b974b33"
      },
      "execution_count": null,
      "outputs": [
        {
          "output_type": "stream",
          "name": "stdout",
          "text": [
            "Sentence Tokenized: [\"text@title@author   one morning a little rabbit sat on a bank  he pricked his ears and listened to the trit-trot trit-trot of a pony  a gig was coming along the road it was driven by mr mcgregor and beside him sat mrs mcgregor in her best bonnet  as soon as they had passed little benjamin bunny slid down into the road and set off with a hop skip and a jump to call upon his relations who lived in the wood at the back of mr mcgregor's garden      that wood was full of rabbit holes and in the neatest sandiest hole of all lived benjamin's aunt and his cousins flopsy mopsy cotton-tail and peter  old mrs rabbit was a widow she earned her living by knitting rabbit-wool mittens and muffatees i once bought a pair at a bazaar she also sold herbs and rosemary tea and rabbit-tobacco which is what we call lavender  little benjamin did not very much want to see his aunt  he came round the back of the fir-tree and nearly tumbled upon the top of his cousin peter      peter was sitting by himself he looked poorly and was dressed in a red cotton pocket-handkerchief  peter said little benjamin in a whisper who has got your clothes  peter replied the scarecrow in mr mcgregor's garden and described how he had been chased about the garden and had dropped his shoes and coat  little benjamin sat down beside his cousin and assured him that mr mcgregor had gone out in a gig and mrs mcgregor also and certainly for the day because she was wearing her best bonnet      peter said he hoped that it would rain  at this point old mrs rabbit's voice was heard inside the rabbit hole calling  cotton-tail cotton-tail fetch some more camomile  peter said he thought he might feel better if he went for a walk  they went away hand in hand and got upon the flat top of the wall at the bottom of the wood from here they looked down into mr mcgregor's garden peter's coat and shoes were plainly to be seen upon the scarecrow topped with an old tam-o'-shanter of mr mcgregor's      little benjamin said  it spoils people's clothes to squeeze under a gate the proper way to get in is to climb down a pear-tree  peter fell down head first but it was of no consequence as the bed below was newly raked and quite soft  it had been sown with lettuces  they left a great many odd little footmarks all over the bed especially little benjamin who was wearing clogs      little benjamin said that the first thing to be done was to get back peter's clothes in order that they might be able to use the pocket-handkerchief  they took them off the scarecrow there had been rain during the night there was water in the shoes and the coat was somewhat shrunk  benjamin tried on the tam-o'-shanter but it was too big for him  then he suggested that they should fill the pocket-handkerchief with onions as a little present for his aunt  peter did not seem to be enjoying himself he kept hearing noises       benjamin on the contrary was perfectly at home and ate a lettuce leaf he said that he was in the habit of coming to the garden with his father to get lettuces for their sunday dinner  the name of little benjamin's papa was old mr benjamin bunny  the lettuces certainly were very fine  peter did not eat anything he said he should like to go home presently he dropped half the onions      little benjamin said that it was not possible to get back up the pear-tree with a load of vegetables he led the way boldly towards the other end of the garden they went along a little walk on planks under a sunny red brick wall  the mice sat on their doorsteps cracking cherry-stones they winked at peter rabbit and little benjamin bunny  presently peter let the pocket-handkerchief go again      they got amongst flower-pots and frames and tubs peter heard noises worse than ever his eyes were as big as lolly-pops  he was a step or two in front of his cousin when he suddenly stopped  this is what those little rabbits saw round that corner  little benjamin took one look and then in half a minute less than no time he hid himself and peter and the onions underneath a large basket      the cat got up and stretched herself and came and sniffed at the basket  perhaps she liked the smell of onions  anyway she sat down upon the top of the basket  she sat there for five hours                                       i cannot draw you a picture of peter and benjamin underneath the basket because it was quite dark and because the smell of onions was fearful it made peter rabbit and little benjamin cry  the sun got round behind the wood and it was quite late in the afternoon but still the cat sat upon the basket      at length there was a pitter-patter pitter-patter and some bits of mortar fell from the wall above  the cat looked up and saw old mr benjamin bunny prancing along the top of the wall of the upper terrace  he was smoking a pipe of rabbit-tobacco and had a little switch in his hand  he was looking for his son  old mr bunny had no opinion whatever of cats  he took a tremendous jump off the top of the wall on to the top of the cat and cuffed it off the basket and kicked it into the greenhouse scratching off a handful of fur  the cat was too much surprised to scratch back      when old mr bunny had driven the cat into the greenhouse he locked the door  then he came back to the basket and took out his son benjamin by the ears and whipped him with the little switch  then he took out his nephew peter  then he took out the handkerchief of onions and marched out of the garden    when mr mcgregor returned about half an hour later he observed several things which perplexed him  it looked as though some person had been walking all over the garden in a pair of clogs only the footmarks were too ridiculously little  also he could not understand how the cat could have managed to shut herself up inside the greenhouse locking the door upon the outside      when peter got home his mother forgave him because she was so glad to see that he had found his shoes and coat cotton-tail and peter folded up the pocket-handkerchief and old mrs rabbit strung up the onions and hung them from the kitchen ceiling with the bunches of herbs and the rabbit-tobacco@the tale of benjamin bunny@beatrix potter\"]\n",
            "Tokenizing Words with RegexpTokenizer: ['text', 'title', 'author', 'one', 'morning', 'a', 'little', 'rabbit', 'sat', 'on', 'a', 'bank', 'he', 'pricked', 'his', 'ears', 'and', 'listened', 'to', 'the', 'trit', 'trot', 'trit', 'trot', 'of', 'a', 'pony', 'a', 'gig', 'was', 'coming', 'along', 'the', 'road', 'it', 'was', 'driven', 'by', 'mr', 'mcgregor', 'and', 'beside', 'him', 'sat', 'mrs', 'mcgregor', 'in', 'her', 'best', 'bonnet', 'as', 'soon', 'as', 'they', 'had', 'passed', 'little', 'benjamin', 'bunny', 'slid', 'down', 'into', 'the', 'road', 'and', 'set', 'off', 'with', 'a', 'hop', 'skip', 'and', 'a', 'jump', 'to', 'call', 'upon', 'his', 'relations', 'who', 'lived', 'in', 'the', 'wood', 'at', 'the', 'back', 'of', 'mr', 'mcgregor', 's', 'garden', 'that', 'wood', 'was', 'full', 'of', 'rabbit', 'holes', 'and', 'in', 'the', 'neatest', 'sandiest', 'hole', 'of', 'all', 'lived', 'benjamin', 's', 'aunt', 'and', 'his', 'cousins', 'flopsy', 'mopsy', 'cotton', 'tail', 'and', 'peter', 'old', 'mrs', 'rabbit', 'was', 'a', 'widow', 'she', 'earned', 'her', 'living', 'by', 'knitting', 'rabbit', 'wool', 'mittens', 'and', 'muffatees', 'i', 'once', 'bought', 'a', 'pair', 'at', 'a', 'bazaar', 'she', 'also', 'sold', 'herbs', 'and', 'rosemary', 'tea', 'and', 'rabbit', 'tobacco', 'which', 'is', 'what', 'we', 'call', 'lavender', 'little', 'benjamin', 'did', 'not', 'very', 'much', 'want', 'to', 'see', 'his', 'aunt', 'he', 'came', 'round', 'the', 'back', 'of', 'the', 'fir', 'tree', 'and', 'nearly', 'tumbled', 'upon', 'the', 'top', 'of', 'his', 'cousin', 'peter', 'peter', 'was', 'sitting', 'by', 'himself', 'he', 'looked', 'poorly', 'and', 'was', 'dressed', 'in', 'a', 'red', 'cotton', 'pocket', 'handkerchief', 'peter', 'said', 'little', 'benjamin', 'in', 'a', 'whisper', 'who', 'has', 'got', 'your', 'clothes', 'peter', 'replied', 'the', 'scarecrow', 'in', 'mr', 'mcgregor', 's', 'garden', 'and', 'described', 'how', 'he', 'had', 'been', 'chased', 'about', 'the', 'garden', 'and', 'had', 'dropped', 'his', 'shoes', 'and', 'coat', 'little', 'benjamin', 'sat', 'down', 'beside', 'his', 'cousin', 'and', 'assured', 'him', 'that', 'mr', 'mcgregor', 'had', 'gone', 'out', 'in', 'a', 'gig', 'and', 'mrs', 'mcgregor', 'also', 'and', 'certainly', 'for', 'the', 'day', 'because', 'she', 'was', 'wearing', 'her', 'best', 'bonnet', 'peter', 'said', 'he', 'hoped', 'that', 'it', 'would', 'rain', 'at', 'this', 'point', 'old', 'mrs', 'rabbit', 's', 'voice', 'was', 'heard', 'inside', 'the', 'rabbit', 'hole', 'calling', 'cotton', 'tail', 'cotton', 'tail', 'fetch', 'some', 'more', 'camomile', 'peter', 'said', 'he', 'thought', 'he', 'might', 'feel', 'better', 'if', 'he', 'went', 'for', 'a', 'walk', 'they', 'went', 'away', 'hand', 'in', 'hand', 'and', 'got', 'upon', 'the', 'flat', 'top', 'of', 'the', 'wall', 'at', 'the', 'bottom', 'of', 'the', 'wood', 'from', 'here', 'they', 'looked', 'down', 'into', 'mr', 'mcgregor', 's', 'garden', 'peter', 's', 'coat', 'and', 'shoes', 'were', 'plainly', 'to', 'be', 'seen', 'upon', 'the', 'scarecrow', 'topped', 'with', 'an', 'old', 'tam', 'o', 'shanter', 'of', 'mr', 'mcgregor', 's', 'little', 'benjamin', 'said', 'it', 'spoils', 'people', 's', 'clothes', 'to', 'squeeze', 'under', 'a', 'gate', 'the', 'proper', 'way', 'to', 'get', 'in', 'is', 'to', 'climb', 'down', 'a', 'pear', 'tree', 'peter', 'fell', 'down', 'head', 'first', 'but', 'it', 'was', 'of', 'no', 'consequence', 'as', 'the', 'bed', 'below', 'was', 'newly', 'raked', 'and', 'quite', 'soft', 'it', 'had', 'been', 'sown', 'with', 'lettuces', 'they', 'left', 'a', 'great', 'many', 'odd', 'little', 'footmarks', 'all', 'over', 'the', 'bed', 'especially', 'little', 'benjamin', 'who', 'was', 'wearing', 'clogs', 'little', 'benjamin', 'said', 'that', 'the', 'first', 'thing', 'to', 'be', 'done', 'was', 'to', 'get', 'back', 'peter', 's', 'clothes', 'in', 'order', 'that', 'they', 'might', 'be', 'able', 'to', 'use', 'the', 'pocket', 'handkerchief', 'they', 'took', 'them', 'off', 'the', 'scarecrow', 'there', 'had', 'been', 'rain', 'during', 'the', 'night', 'there', 'was', 'water', 'in', 'the', 'shoes', 'and', 'the', 'coat', 'was', 'somewhat', 'shrunk', 'benjamin', 'tried', 'on', 'the', 'tam', 'o', 'shanter', 'but', 'it', 'was', 'too', 'big', 'for', 'him', 'then', 'he', 'suggested', 'that', 'they', 'should', 'fill', 'the', 'pocket', 'handkerchief', 'with', 'onions', 'as', 'a', 'little', 'present', 'for', 'his', 'aunt', 'peter', 'did', 'not', 'seem', 'to', 'be', 'enjoying', 'himself', 'he', 'kept', 'hearing', 'noises', 'benjamin', 'on', 'the', 'contrary', 'was', 'perfectly', 'at', 'home', 'and', 'ate', 'a', 'lettuce', 'leaf', 'he', 'said', 'that', 'he', 'was', 'in', 'the', 'habit', 'of', 'coming', 'to', 'the', 'garden', 'with', 'his', 'father', 'to', 'get', 'lettuces', 'for', 'their', 'sunday', 'dinner', 'the', 'name', 'of', 'little', 'benjamin', 's', 'papa', 'was', 'old', 'mr', 'benjamin', 'bunny', 'the', 'lettuces', 'certainly', 'were', 'very', 'fine', 'peter', 'did', 'not', 'eat', 'anything', 'he', 'said', 'he', 'should', 'like', 'to', 'go', 'home', 'presently', 'he', 'dropped', 'half', 'the', 'onions', 'little', 'benjamin', 'said', 'that', 'it', 'was', 'not', 'possible', 'to', 'get', 'back', 'up', 'the', 'pear', 'tree', 'with', 'a', 'load', 'of', 'vegetables', 'he', 'led', 'the', 'way', 'boldly', 'towards', 'the', 'other', 'end', 'of', 'the', 'garden', 'they', 'went', 'along', 'a', 'little', 'walk', 'on', 'planks', 'under', 'a', 'sunny', 'red', 'brick', 'wall', 'the', 'mice', 'sat', 'on', 'their', 'doorsteps', 'cracking', 'cherry', 'stones', 'they', 'winked', 'at', 'peter', 'rabbit', 'and', 'little', 'benjamin', 'bunny', 'presently', 'peter', 'let', 'the', 'pocket', 'handkerchief', 'go', 'again', 'they', 'got', 'amongst', 'flower', 'pots', 'and', 'frames', 'and', 'tubs', 'peter', 'heard', 'noises', 'worse', 'than', 'ever', 'his', 'eyes', 'were', 'as', 'big', 'as', 'lolly', 'pops', 'he', 'was', 'a', 'step', 'or', 'two', 'in', 'front', 'of', 'his', 'cousin', 'when', 'he', 'suddenly', 'stopped', 'this', 'is', 'what', 'those', 'little', 'rabbits', 'saw', 'round', 'that', 'corner', 'little', 'benjamin', 'took', 'one', 'look', 'and', 'then', 'in', 'half', 'a', 'minute', 'less', 'than', 'no', 'time', 'he', 'hid', 'himself', 'and', 'peter', 'and', 'the', 'onions', 'underneath', 'a', 'large', 'basket', 'the', 'cat', 'got', 'up', 'and', 'stretched', 'herself', 'and', 'came', 'and', 'sniffed', 'at', 'the', 'basket', 'perhaps', 'she', 'liked', 'the', 'smell', 'of', 'onions', 'anyway', 'she', 'sat', 'down', 'upon', 'the', 'top', 'of', 'the', 'basket', 'she', 'sat', 'there', 'for', 'five', 'hours', 'i', 'cannot', 'draw', 'you', 'a', 'picture', 'of', 'peter', 'and', 'benjamin', 'underneath', 'the', 'basket', 'because', 'it', 'was', 'quite', 'dark', 'and', 'because', 'the', 'smell', 'of', 'onions', 'was', 'fearful', 'it', 'made', 'peter', 'rabbit', 'and', 'little', 'benjamin', 'cry', 'the', 'sun', 'got', 'round', 'behind', 'the', 'wood', 'and', 'it', 'was', 'quite', 'late', 'in', 'the', 'afternoon', 'but', 'still', 'the', 'cat', 'sat', 'upon', 'the', 'basket', 'at', 'length', 'there', 'was', 'a', 'pitter', 'patter', 'pitter', 'patter', 'and', 'some', 'bits', 'of', 'mortar', 'fell', 'from', 'the', 'wall', 'above', 'the', 'cat', 'looked', 'up', 'and', 'saw', 'old', 'mr', 'benjamin', 'bunny', 'prancing', 'along', 'the', 'top', 'of', 'the', 'wall', 'of', 'the', 'upper', 'terrace', 'he', 'was', 'smoking', 'a', 'pipe', 'of', 'rabbit', 'tobacco', 'and', 'had', 'a', 'little', 'switch', 'in', 'his', 'hand', 'he', 'was', 'looking', 'for', 'his', 'son', 'old', 'mr', 'bunny', 'had', 'no', 'opinion', 'whatever', 'of', 'cats', 'he', 'took', 'a', 'tremendous', 'jump', 'off', 'the', 'top', 'of', 'the', 'wall', 'on', 'to', 'the', 'top', 'of', 'the', 'cat', 'and', 'cuffed', 'it', 'off', 'the', 'basket', 'and', 'kicked', 'it', 'into', 'the', 'greenhouse', 'scratching', 'off', 'a', 'handful', 'of', 'fur', 'the', 'cat', 'was', 'too', 'much', 'surprised', 'to', 'scratch', 'back', 'when', 'old', 'mr', 'bunny', 'had', 'driven', 'the', 'cat', 'into', 'the', 'greenhouse', 'he', 'locked', 'the', 'door', 'then', 'he', 'came', 'back', 'to', 'the', 'basket', 'and', 'took', 'out', 'his', 'son', 'benjamin', 'by', 'the', 'ears', 'and', 'whipped', 'him', 'with', 'the', 'little', 'switch', 'then', 'he', 'took', 'out', 'his', 'nephew', 'peter', 'then', 'he', 'took', 'out', 'the', 'handkerchief', 'of', 'onions', 'and', 'marched', 'out', 'of', 'the', 'garden', 'when', 'mr', 'mcgregor', 'returned', 'about', 'half', 'an', 'hour', 'later', 'he', 'observed', 'several', 'things', 'which', 'perplexed', 'him', 'it', 'looked', 'as', 'though', 'some', 'person', 'had', 'been', 'walking', 'all', 'over', 'the', 'garden', 'in', 'a', 'pair', 'of', 'clogs', 'only', 'the', 'footmarks', 'were', 'too', 'ridiculously', 'little', 'also', 'he', 'could', 'not', 'understand', 'how', 'the', 'cat', 'could', 'have', 'managed', 'to', 'shut', 'herself', 'up', 'inside', 'the', 'greenhouse', 'locking', 'the', 'door', 'upon', 'the', 'outside', 'when', 'peter', 'got', 'home', 'his', 'mother', 'forgave', 'him', 'because', 'she', 'was', 'so', 'glad', 'to', 'see', 'that', 'he', 'had', 'found', 'his', 'shoes', 'and', 'coat', 'cotton', 'tail', 'and', 'peter', 'folded', 'up', 'the', 'pocket', 'handkerchief', 'and', 'old', 'mrs', 'rabbit', 'strung', 'up', 'the', 'onions', 'and', 'hung', 'them', 'from', 'the', 'kitchen', 'ceiling', 'with', 'the', 'bunches', 'of', 'herbs', 'and', 'the', 'rabbit', 'tobacco', 'the', 'tale', 'of', 'benjamin', 'bunny', 'beatrix', 'potter']\n",
            "text title author one morning a little rabbit sat on a bank he pricked his ears and listened to the trit trot trit trot of a pony a gig was coming along the road it was driven by mr mcgregor and beside him sat mrs mcgregor in her best bonnet as soon as they had passed little benjamin bunny slid down into the road and set off with a hop skip and a jump to call upon his relations who lived in the wood at the back of mr mcgregor s garden that wood was full of rabbit holes and in the neatest sandiest hole of all lived benjamin s aunt and his cousins flopsy mopsy cotton tail and peter old mrs rabbit was a widow she earned her living by knitting rabbit wool mittens and muffatees i once bought a pair at a bazaar she also sold herbs and rosemary tea and rabbit tobacco which is what we call lavender little benjamin did not very much want to see his aunt he came round the back of the fir tree and nearly tumbled upon the top of his cousin peter peter was sitting by himself he looked poorly and was dressed in a red cotton pocket handkerchief peter said little benjamin in a whisper who has got your clothes peter replied the scarecrow in mr mcgregor s garden and described how he had been chased about the garden and had dropped his shoes and coat little benjamin sat down beside his cousin and assured him that mr mcgregor had gone out in a gig and mrs mcgregor also and certainly for the day because she was wearing her best bonnet peter said he hoped that it would rain at this point old mrs rabbit s voice was heard inside the rabbit hole calling cotton tail cotton tail fetch some more camomile peter said he thought he might feel better if he went for a walk they went away hand in hand and got upon the flat top of the wall at the bottom of the wood from here they looked down into mr mcgregor s garden peter s coat and shoes were plainly to be seen upon the scarecrow topped with an old tam o shanter of mr mcgregor s little benjamin said it spoils people s clothes to squeeze under a gate the proper way to get in is to climb down a pear tree peter fell down head first but it was of no consequence as the bed below was newly raked and quite soft it had been sown with lettuces they left a great many odd little footmarks all over the bed especially little benjamin who was wearing clogs little benjamin said that the first thing to be done was to get back peter s clothes in order that they might be able to use the pocket handkerchief they took them off the scarecrow there had been rain during the night there was water in the shoes and the coat was somewhat shrunk benjamin tried on the tam o shanter but it was too big for him then he suggested that they should fill the pocket handkerchief with onions as a little present for his aunt peter did not seem to be enjoying himself he kept hearing noises benjamin on the contrary was perfectly at home and ate a lettuce leaf he said that he was in the habit of coming to the garden with his father to get lettuces for their sunday dinner the name of little benjamin s papa was old mr benjamin bunny the lettuces certainly were very fine peter did not eat anything he said he should like to go home presently he dropped half the onions little benjamin said that it was not possible to get back up the pear tree with a load of vegetables he led the way boldly towards the other end of the garden they went along a little walk on planks under a sunny red brick wall the mice sat on their doorsteps cracking cherry stones they winked at peter rabbit and little benjamin bunny presently peter let the pocket handkerchief go again they got amongst flower pots and frames and tubs peter heard noises worse than ever his eyes were as big as lolly pops he was a step or two in front of his cousin when he suddenly stopped this is what those little rabbits saw round that corner little benjamin took one look and then in half a minute less than no time he hid himself and peter and the onions underneath a large basket the cat got up and stretched herself and came and sniffed at the basket perhaps she liked the smell of onions anyway she sat down upon the top of the basket she sat there for five hours i cannot draw you a picture of peter and benjamin underneath the basket because it was quite dark and because the smell of onions was fearful it made peter rabbit and little benjamin cry the sun got round behind the wood and it was quite late in the afternoon but still the cat sat upon the basket at length there was a pitter patter pitter patter and some bits of mortar fell from the wall above the cat looked up and saw old mr benjamin bunny prancing along the top of the wall of the upper terrace he was smoking a pipe of rabbit tobacco and had a little switch in his hand he was looking for his son old mr bunny had no opinion whatever of cats he took a tremendous jump off the top of the wall on to the top of the cat and cuffed it off the basket and kicked it into the greenhouse scratching off a handful of fur the cat was too much surprised to scratch back when old mr bunny had driven the cat into the greenhouse he locked the door then he came back to the basket and took out his son benjamin by the ears and whipped him with the little switch then he took out his nephew peter then he took out the handkerchief of onions and marched out of the garden when mr mcgregor returned about half an hour later he observed several things which perplexed him it looked as though some person had been walking all over the garden in a pair of clogs only the footmarks were too ridiculously little also he could not understand how the cat could have managed to shut herself up inside the greenhouse locking the door upon the outside when peter got home his mother forgave him because she was so glad to see that he had found his shoes and coat cotton tail and peter folded up the pocket handkerchief and old mrs rabbit strung up the onions and hung them from the kitchen ceiling with the bunches of herbs and the rabbit tobacco the tale of benjamin bunny beatrix potter\n"
          ]
        }
      ]
    },
    {
      "cell_type": "markdown",
      "source": [
        "#⚠️ <font color = 'green'>**This is the end of the Script! You did a good job!** **"
      ],
      "metadata": {
        "id": "DUcWWwfGCGf7"
      }
    }
  ]
}